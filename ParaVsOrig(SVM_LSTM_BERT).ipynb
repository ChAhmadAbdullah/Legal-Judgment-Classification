{
  "cells": [
    {
      "cell_type": "markdown",
      "metadata": {
        "id": "mlDoTZ5jHHVp"
      },
      "source": [
        "# **LSTM (Para Vs Original)**"
      ]
    },
    {
      "cell_type": "code",
      "execution_count": 1,
      "metadata": {
        "collapsed": true,
        "id": "b-owqSD2WhpK"
      },
      "outputs": [],
      "source": [
        "import torch\n",
        "import torch.nn as nn\n",
        "import torch.optim as optim\n",
        "from torch.utils.data import DataLoader, Dataset\n",
        "from sklearn.preprocessing import MultiLabelBinarizer\n",
        "from sklearn.metrics import precision_recall_fscore_support, multilabel_confusion_matrix, accuracy_score\n",
        "import numpy as np\n",
        "import pandas as pd\n",
        "import matplotlib.pyplot as plt\n",
        "import seaborn as sns\n",
        "from tqdm import tqdm"
      ]
    },
    {
      "cell_type": "code",
      "execution_count": 2,
      "metadata": {
        "id": "jy1a0THOczgV"
      },
      "outputs": [],
      "source": [
        "# Load the data\n",
        "train_df = pd.read_csv('NonParajudgments.csv', encoding = \"Latin-1\")\n",
        "test_df = pd.read_csv('Parajudgments.csv', encoding = \"Latin-1\")\n",
        "# Separating features and labels\n",
        "train_df_X = train_df['Head_Notes']\n",
        "train_df_y = train_df.drop(columns=['Head_Notes', 'Case_id', 'Ss'])\n",
        "\n",
        "# Separating features and labels\n",
        "test_df_X = test_df['Head_Notes']\n",
        "test_df_y = test_df.drop(columns=['Head_Notes', 'Case_id', 'Ss'])\n",
        "\n",
        "\n",
        "# # Assume 'Head_Notes' is the column with the text and other columns are the labels\n",
        "# text_column = 'Head_Notes'\n",
        "# label_columns = ['Murder', 'Dacoity', 'Rape', 'Fraud', 'Robbery or Theft', 'Kidnapp']\n",
        "\n",
        "# # Combine the datasets for consistent preprocessing\n",
        "# combined_df = pd.concat([train_df, test_df])"
      ]
    },
    {
      "cell_type": "code",
      "execution_count": 4,
      "metadata": {
        "id": "JGEx_0bVdZ2l"
      },
      "outputs": [],
      "source": [
        "# # Preprocessing function (example)\n",
        "# def preprocess_text(text):\n",
        "#     # Implement text preprocessing (tokenization, lowercasing, etc.)\n",
        "#     return text\n",
        "\n",
        "# combined_df[text_column] = combined_df[text_column].apply(preprocess_text)\n",
        "\n",
        "# # Convert text to sequences\n",
        "# tokenizer = get_tokenizer(\"basic_english\")\n",
        "# vocab = build_vocab_from_iterator(map(tokenizer, combined_df[text_column]), specials=[\"<unk>\"])\n",
        "# vocab.set_default_index(vocab[\"<unk>\"])\n",
        "\n",
        "# def text_pipeline(text):\n",
        "#     return vocab(tokenizer(text))\n",
        "\n",
        "# def collate_batch(batch):\n",
        "#     text_list, label_list = [], []\n",
        "#     for _text, _labels in batch:\n",
        "#         processed_text = torch.tensor(text_pipeline(_text), dtype=torch.int64)\n",
        "#         text_list.append(processed_text)\n",
        "#         label_list.append(torch.tensor(_labels, dtype=torch.float32))\n",
        "#     text_list = torch.nn.utils.rnn.pad_sequence(text_list, padding_value=0)\n",
        "#     label_list = torch.stack(label_list)\n",
        "#     return text_list, label_list\n",
        "from sklearn.feature_extraction.text import CountVectorizer\n",
        "\n",
        "# Tokenize and encode the datasets\n",
        "vectorizer = CountVectorizer(max_features=5000, stop_words='english')\n",
        "X_train = vectorizer.fit_transform(train_df_X).toarray()  # Convert to dense format\n",
        "X_test = vectorizer.transform(test_df_X).toarray()  # Convert to dense format\n",
        "\n",
        "y_train = train_df_y.values\n",
        "y_test = test_df_y.values\n",
        "\n",
        "# Prepare datasets\n",
        "class JudgementDataset(Dataset):\n",
        "    def __init__(self, df, text_column, label_columns):\n",
        "        self.df = df\n",
        "        self.texts = df[text_column].values\n",
        "        self.labels = df[label_columns].values\n",
        "\n",
        "    def __len__(self):\n",
        "        return len(self.df)\n",
        "\n",
        "    def __getitem__(self, idx):\n",
        "        return self.texts[idx], self.labels[idx]"
      ]
    },
    {
      "cell_type": "code",
      "execution_count": null,
      "metadata": {
        "id": "ILbTmfFSeiwj"
      },
      "outputs": [],
      "source": [
        "# train_dataset = JudgementDataset(train_df_X, text_column, label_columns)\n",
        "# test_dataset = JudgementDataset(test_df_X, text_column, label_columns)\n",
        "\n",
        "# train_loader = DataLoader(train_dataset, batch_size=8, shuffle=True, collate_fn=collate_batch)\n",
        "# test_loader = DataLoader(test_dataset, batch_size=8, shuffle=False, collate_fn=collate_batch)\n",
        "from torch.utils.data import DataLoader, TensorDataset, Dataset\n",
        "\n",
        "# Prepare data loaders\n",
        "train_dataset = TensorDataset(torch.tensor(X_train).float(), torch.tensor(y_train).float())\n",
        "test_dataset = TensorDataset(torch.tensor(X_test).float(), torch.tensor(y_test).float())\n",
        "\n",
        "train_loader = DataLoader(train_dataset, batch_size=8, shuffle=True)\n",
        "test_loader = DataLoader(test_dataset, batch_size=8, shuffle=False)"
      ]
    },
    {
      "cell_type": "code",
      "execution_count": null,
      "metadata": {
        "id": "qTs5NduveuJs"
      },
      "outputs": [],
      "source": [
        "# Define the LSTM model\n",
        "class LSTMClassifier(nn.Module):\n",
        "    def __init__(self, input_dim, hidden_dim, output_dim):\n",
        "        super(LSTMClassifier, self).__init__()\n",
        "        self.hidden_dim = hidden_dim\n",
        "        self.lstm = nn.LSTM(input_dim, hidden_dim, batch_first=True, bidirectional=True)\n",
        "        self.fc = nn.Linear(hidden_dim * 2, output_dim)  # * 2 for bidirectional\n",
        "\n",
        "    def forward(self, x):\n",
        "        lstm_out, _ = self.lstm(x)\n",
        "        # Extract the last hidden state output\n",
        "        last_hidden_state = lstm_out[:, -1, :]\n",
        "        out = self.fc(last_hidden_state)\n",
        "        return out"
      ]
    },
    {
      "cell_type": "code",
      "execution_count": null,
      "metadata": {
        "id": "1xFvHUiUevR0"
      },
      "outputs": [],
      "source": [
        "# Initialize the model, criterion, and optimizer\n",
        "input_dim = X_train.shape[1]\n",
        "hidden_dim = 128\n",
        "output_dim = 6  # Number of labels\n",
        "model = LSTMClassifier(input_dim, hidden_dim, output_dim)\n",
        "\n",
        "criterion = nn.BCEWithLogitsLoss()\n",
        "optimizer = optim.Adam(model.parameters(), lr=0.001)"
      ]
    },
    {
      "cell_type": "code",
      "execution_count": null,
      "metadata": {
        "colab": {
          "base_uri": "https://localhost:8080/"
        },
        "id": "C9USt8Ebe1P1",
        "outputId": "cb38f176-a224-415e-c98a-30a8d4a3431b"
      },
      "outputs": [
        {
          "name": "stderr",
          "output_type": "stream",
          "text": [
            "Epoch 1: 100%|██████████| 14/14 [00:00<00:00, 15.69it/s]\n"
          ]
        },
        {
          "name": "stdout",
          "output_type": "stream",
          "text": [
            "Epoch 1/4, Average Training Loss: 0.6170491682631629, Training Accuracy: 0.7685185074806213\n"
          ]
        },
        {
          "name": "stderr",
          "output_type": "stream",
          "text": [
            "Epoch 2: 100%|██████████| 14/14 [00:00<00:00, 19.77it/s]\n"
          ]
        },
        {
          "name": "stdout",
          "output_type": "stream",
          "text": [
            "Epoch 2/4, Average Training Loss: 0.41717336220400675, Training Accuracy: 0.8734567761421204\n"
          ]
        },
        {
          "name": "stderr",
          "output_type": "stream",
          "text": [
            "Epoch 3: 100%|██████████| 14/14 [00:00<00:00, 17.20it/s]\n"
          ]
        },
        {
          "name": "stdout",
          "output_type": "stream",
          "text": [
            "Epoch 3/4, Average Training Loss: 0.2855875108923231, Training Accuracy: 0.9012345671653748\n"
          ]
        },
        {
          "name": "stderr",
          "output_type": "stream",
          "text": [
            "Epoch 4: 100%|██████████| 14/14 [00:00<00:00, 17.33it/s]"
          ]
        },
        {
          "name": "stdout",
          "output_type": "stream",
          "text": [
            "Epoch 4/4, Average Training Loss: 0.17570434936455318, Training Accuracy: 0.9614197611808777\n"
          ]
        },
        {
          "name": "stderr",
          "output_type": "stream",
          "text": [
            "\n"
          ]
        }
      ],
      "source": [
        "EPOCHS = 4\n",
        "train_losses = []\n",
        "train_accuracies = []\n",
        "val_losses = []\n",
        "# Training loop\n",
        "for epoch in range(EPOCHS):\n",
        "    model.train()\n",
        "    total_loss = 0\n",
        "    correct_predictions = 0\n",
        "    total_predictions = 0\n",
        "\n",
        "    for inputs, labels in tqdm(train_loader, desc=f\"Epoch {epoch + 1}\"):\n",
        "        optimizer.zero_grad()\n",
        "\n",
        "        # Reshape inputs to (batch_size, sequence_length, input_dim)\n",
        "        inputs = inputs.unsqueeze(1)  # Add sequence_length dimension\n",
        "        outputs = model(inputs)\n",
        "\n",
        "        loss = criterion(outputs, labels)\n",
        "        loss.backward()\n",
        "        optimizer.step()\n",
        "\n",
        "        total_loss += loss.item()\n",
        "\n",
        "        # Calculate training accuracy\n",
        "        predictions = (torch.sigmoid(outputs) >= 0.5).float()\n",
        "        correct_predictions += (predictions == labels).float().sum()\n",
        "        total_predictions += labels.numel()\n",
        "\n",
        "    # Calculate average training loss and accuracy for the epoch\n",
        "    average_loss = total_loss / len(train_loader)\n",
        "    training_accuracy = correct_predictions / total_predictions\n",
        "\n",
        "    # Append the values to the lists\n",
        "    train_losses.append(average_loss)\n",
        "    train_accuracies.append(training_accuracy.item())\n",
        "\n",
        "    print(f'Epoch {epoch + 1}/{EPOCHS}, Average Training Loss: {average_loss}, Training Accuracy: {training_accuracy}')"
      ]
    },
    {
      "cell_type": "code",
      "execution_count": null,
      "metadata": {
        "colab": {
          "base_uri": "https://localhost:8080/"
        },
        "id": "80iod8dJfSk1",
        "outputId": "218eaacd-35c6-4221-b5b9-5e1359104a5b"
      },
      "outputs": [
        {
          "name": "stdout",
          "output_type": "stream",
          "text": [
            "Test Loss: 0.18632176412003382, Test Accuracy: 0.9845678806304932\n"
          ]
        }
      ],
      "source": [
        "# Testing phase\n",
        "model.eval()\n",
        "total_test_loss = 0\n",
        "correct_test_predictions = 0\n",
        "total_test_predictions = 0\n",
        "\n",
        "all_predictions = []\n",
        "all_labels = []\n",
        "\n",
        "test_losses = []  # List to store test losses for each batch\n",
        "\n",
        "with torch.no_grad():\n",
        "    for inputs, labels in test_loader:\n",
        "        inputs = inputs.unsqueeze(1)  # Add sequence_length dimension\n",
        "        outputs = model(inputs)\n",
        "\n",
        "        loss = criterion(outputs, labels)\n",
        "        total_test_loss += loss.item()\n",
        "        test_losses.append(loss.item())  # Store test loss for this batch\n",
        "\n",
        "        # Calculate testing accuracy\n",
        "        predictions = (torch.sigmoid(outputs) >= 0.43).float()\n",
        "        correct_test_predictions += (predictions == labels).float().sum()\n",
        "        total_test_predictions += labels.numel()\n",
        "\n",
        "        all_predictions.append(predictions)\n",
        "        all_labels.append(labels)\n",
        "\n",
        "# Calculate average test loss and testing accuracy\n",
        "average_test_loss = total_test_loss / len(test_loader)\n",
        "testing_accuracy = correct_test_predictions / total_test_predictions\n",
        "\n",
        "print(f'Test Loss: {average_test_loss}, Test Accuracy: {testing_accuracy}')\n"
      ]
    },
    {
      "cell_type": "code",
      "execution_count": null,
      "metadata": {
        "colab": {
          "base_uri": "https://localhost:8080/"
        },
        "id": "cwu1hKOcB0Tr",
        "outputId": "48c8ce1e-8de7-4214-e63a-1ff20311ea47"
      },
      "outputs": [
        {
          "name": "stdout",
          "output_type": "stream",
          "text": [
            "Micro-averaged Precision: 0.9923664122137404\n",
            "Micro-averaged Recall: 0.935251798561151\n",
            "Micro-averaged F1-score: 0.9629629629629629\n"
          ]
        }
      ],
      "source": [
        "from sklearn.metrics import precision_recall_fscore_support\n",
        "\n",
        "# Concatenate all predictions and labels\n",
        "all_predictions = torch.cat(all_predictions).cpu().numpy()\n",
        "all_labels = torch.cat(all_labels).cpu().numpy()\n",
        "\n",
        "# Compute precision, recall, and F1-score\n",
        "precision, recall, f1, _ = precision_recall_fscore_support(all_labels, all_predictions, average='micro')\n",
        "\n",
        "print(\"Micro-averaged Precision:\", precision)\n",
        "print(\"Micro-averaged Recall:\", recall)\n",
        "print(\"Micro-averaged F1-score:\", f1)"
      ]
    },
    {
      "cell_type": "markdown",
      "metadata": {
        "id": "36BsNTk9hynT"
      },
      "source": [
        "# **SVM Code (Para VS Orig**)"
      ]
    },
    {
      "cell_type": "code",
      "execution_count": null,
      "metadata": {
        "id": "Qzux8nBxhyK7"
      },
      "outputs": [],
      "source": [
        "from sklearn.feature_extraction.text import TfidfVectorizer\n",
        "from sklearn.multiclass import OneVsRestClassifier\n",
        "from sklearn.svm import SVC\n",
        "from sklearn.model_selection import train_test_split"
      ]
    },
    {
      "cell_type": "code",
      "execution_count": null,
      "metadata": {
        "id": "OEiPwYo1iFJ3"
      },
      "outputs": [],
      "source": [
        "# # Assume 'Head_Notes' is the column with the text and other columns are the labels\n",
        "# text_column = 'Head_Notes'\n",
        "# label_columns = ['Murder', 'Dacoity', 'Rape', 'Fraud', 'Robbery or Theft', 'Kidnapp']\n",
        "\n",
        "# # Combine the datasets for consistent preprocessing\n",
        "# combined_df = pd.concat([train_df, test_df])\n",
        "\n",
        "# # Preprocessing function (example)\n",
        "# def preprocess_text(text):\n",
        "#     # Implement text preprocessing (tokenization, lowercasing, etc.)\n",
        "#     return text.lower()\n",
        "\n",
        "# combined_df[text_column] = combined_df[text_column].apply(preprocess_text)\n",
        "\n",
        "# # Split the combined dataset back into training and testing sets\n",
        "# train_df = combined_df.iloc[:len(train_df)]\n",
        "# test_df = combined_df.iloc[len(train_df):]"
      ]
    },
    {
      "cell_type": "code",
      "execution_count": null,
      "metadata": {
        "id": "CktekV-eDbLj"
      },
      "outputs": [],
      "source": [
        "# Load the data\n",
        "train_df = pd.read_csv('Parajudgments.csv', encoding = \"Latin-1\")\n",
        "test_df = pd.read_csv('NonParajudgments.csv', encoding = \"Latin-1\")\n",
        "# Separating features and labels\n",
        "train_df_X = train_df['Head_Notes']\n",
        "train_df_y = train_df.drop(columns=['Head_Notes', 'Case_id', 'Ss'])\n",
        "\n",
        "# Separating features and labels\n",
        "test_df_X = test_df['Head_Notes']\n",
        "test_df_y = test_df.drop(columns=['Head_Notes', 'Case_id', 'Ss'])"
      ]
    },
    {
      "cell_type": "code",
      "execution_count": null,
      "metadata": {
        "id": "bEjLTa5uibgb"
      },
      "outputs": [],
      "source": [
        "# Vectorize the text using TF-IDF\n",
        "vectorizer = TfidfVectorizer(max_features=10000)\n",
        "X_train = vectorizer.fit_transform(train_df_X)\n",
        "X_test = vectorizer.transform(test_df_X)\n",
        "\n",
        "# Get the labels\n",
        "y_train = train_df_y.values\n",
        "y_test = test_df_y.values\n",
        "\n",
        "# Initialize the SVM classifier\n",
        "svm_classifier = OneVsRestClassifier(SVC(kernel='linear', probability=True))"
      ]
    },
    {
      "cell_type": "code",
      "execution_count": null,
      "metadata": {
        "id": "61wRr4aBiq5J"
      },
      "outputs": [],
      "source": [
        "# Train the model\n",
        "svm_classifier.fit(X_train, y_train)\n",
        "\n",
        "# Predict on the test set\n",
        "y_pred = svm_classifier.predict(X_test)"
      ]
    },
    {
      "cell_type": "code",
      "execution_count": null,
      "metadata": {
        "colab": {
          "base_uri": "https://localhost:8080/"
        },
        "id": "AdlHIYeEkK9s",
        "outputId": "98d059c8-a382-4a54-e87d-4455f999857c"
      },
      "outputs": [
        {
          "name": "stdout",
          "output_type": "stream",
          "text": [
            "Accuracy: 0.6388888888888888\n",
            "Precision: 1.0\n",
            "Recall: 0.6762589928057554\n",
            "F1-Score: 0.8068669527896996\n"
          ]
        }
      ],
      "source": [
        "from sklearn.metrics import accuracy_score, precision_score, recall_score, f1_score\n",
        "# Calculate accuracy\n",
        "accuracy = accuracy_score(y_test, y_pred)\n",
        "print(\"Accuracy:\", accuracy)\n",
        "# Calculate precision, recall, and F1 score\n",
        "precision = precision_score(y_test, y_pred, average='micro')\n",
        "recall = recall_score(y_test, y_pred, average='micro')\n",
        "f1 = f1_score(y_test, y_pred, average='micro')\n",
        "\n",
        "print(\"Precision:\", precision)\n",
        "print(\"Recall:\", recall)\n",
        "print(\"F1-Score:\", f1)"
      ]
    },
    {
      "cell_type": "code",
      "execution_count": null,
      "metadata": {
        "colab": {
          "base_uri": "https://localhost:8080/",
          "height": 569
        },
        "id": "XAPsJ0WFi3Jw",
        "outputId": "255178c9-9cc8-47f0-f994-79cc044defc4"
      },
      "outputs": [
        {
          "data": {
            "image/png": "[encoded data removed]",
            "text/plain": [
              "<Figure size 1000x600 with 1 Axes>"
            ]
          },
          "metadata": {},
          "output_type": "display_data"
        }
      ],
      "source": [
        "# Plot Training and Test Scores\n",
        "train_scores = []\n",
        "test_scores = []\n",
        "Cs = np.logspace(-3, 2, 10)\n",
        "\n",
        "for C in Cs:\n",
        "    svm_classifier = OneVsRestClassifier(SVC(kernel='linear', C=C, probability=True))\n",
        "    svm_classifier.fit(X_train, y_train)\n",
        "    train_score = svm_classifier.score(X_train, y_train)\n",
        "    test_score = svm_classifier.score(X_test, y_test)\n",
        "    train_scores.append(train_score)\n",
        "    test_scores.append(test_score)\n",
        "\n",
        "plt.figure(figsize=(10, 6))\n",
        "plt.plot(Cs, train_scores, marker='o', label='Training Accuracy', color='skyblue', linestyle='-')\n",
        "plt.plot(Cs, test_scores, marker='s', label='Test Accuracy', color='salmon', linestyle='--')\n",
        "plt.xscale('log')\n",
        "plt.xlabel('C (Regularization Parameter)')\n",
        "plt.ylabel('Accuracy')\n",
        "plt.title('Training and Test Accuracy for Different C Values')\n",
        "plt.legend()\n",
        "plt.grid(True, linestyle='--', alpha=0.7)\n",
        "plt.show()"
      ]
    },
    {
      "cell_type": "markdown",
      "metadata": {
        "id": "KU2S2nYQkpVs"
      },
      "source": [
        "# **DistilBERT model (Para VS Orig)**"
      ]
    },
    {
      "cell_type": "code",
      "execution_count": 5,
      "metadata": {
        "id": "6QvEHCjAkZMF"
      },
      "outputs": [
        {
          "name": "stderr",
          "output_type": "stream",
          "text": [
            "c:\\Users\\ahmad\\AppData\\Local\\Programs\\Python\\Python312\\Lib\\site-packages\\tqdm\\auto.py:21: TqdmWarning: IProgress not found. Please update jupyter and ipywidgets. See https://ipywidgets.readthedocs.io/en/stable/user_install.html\n",
            "  from .autonotebook import tqdm as notebook_tqdm\n"
          ]
        }
      ],
      "source": [
        "import torch\n",
        "from transformers import DistilBertTokenizer, DistilBertForSequenceClassification\n",
        "from torch.utils.data import DataLoader, TensorDataset\n",
        "from transformers import AdamW"
      ]
    },
    {
      "cell_type": "code",
      "execution_count": 17,
      "metadata": {
        "id": "n5t7EX4Xk4C5"
      },
      "outputs": [],
      "source": [
        "train_df = pd.read_csv(\"NonParajudgments.csv\", encoding = \"Latin-1\")\n",
        "test_df = pd.read_csv(\"Parajudgments.csv\", encoding = \"Latin-1\")"
      ]
    },
    {
      "cell_type": "code",
      "execution_count": 18,
      "metadata": {
        "colab": {
          "base_uri": "https://localhost:8080/"
        },
        "collapsed": true,
        "id": "j-WyrihVknzn",
        "outputId": "c6d76341-5355-432a-db08-649c63d5732a"
      },
      "outputs": [
        {
          "name": "stderr",
          "output_type": "stream",
          "text": [
            "Some weights of DistilBertForSequenceClassification were not initialized from the model checkpoint at distilbert-base-uncased and are newly initialized: ['classifier.bias', 'classifier.weight', 'pre_classifier.bias', 'pre_classifier.weight']\n",
            "You should probably TRAIN this model on a down-stream task to be able to use it for predictions and inference.\n"
          ]
        },
        {
          "data": {
            "text/plain": [
              "DistilBertForSequenceClassification(\n",
              "  (distilbert): DistilBertModel(\n",
              "    (embeddings): Embeddings(\n",
              "      (word_embeddings): Embedding(30522, 768, padding_idx=0)\n",
              "      (position_embeddings): Embedding(512, 768)\n",
              "      (LayerNorm): LayerNorm((768,), eps=1e-12, elementwise_affine=True)\n",
              "      (dropout): Dropout(p=0.1, inplace=False)\n",
              "    )\n",
              "    (transformer): Transformer(\n",
              "      (layer): ModuleList(\n",
              "        (0-5): 6 x TransformerBlock(\n",
              "          (attention): MultiHeadSelfAttention(\n",
              "            (dropout): Dropout(p=0.1, inplace=False)\n",
              "            (q_lin): Linear(in_features=768, out_features=768, bias=True)\n",
              "            (k_lin): Linear(in_features=768, out_features=768, bias=True)\n",
              "            (v_lin): Linear(in_features=768, out_features=768, bias=True)\n",
              "            (out_lin): Linear(in_features=768, out_features=768, bias=True)\n",
              "          )\n",
              "          (sa_layer_norm): LayerNorm((768,), eps=1e-12, elementwise_affine=True)\n",
              "          (ffn): FFN(\n",
              "            (dropout): Dropout(p=0.1, inplace=False)\n",
              "            (lin1): Linear(in_features=768, out_features=3072, bias=True)\n",
              "            (lin2): Linear(in_features=3072, out_features=768, bias=True)\n",
              "            (activation): GELUActivation()\n",
              "          )\n",
              "          (output_layer_norm): LayerNorm((768,), eps=1e-12, elementwise_affine=True)\n",
              "        )\n",
              "      )\n",
              "    )\n",
              "  )\n",
              "  (pre_classifier): Linear(in_features=768, out_features=768, bias=True)\n",
              "  (classifier): Linear(in_features=768, out_features=6, bias=True)\n",
              "  (dropout): Dropout(p=0.2, inplace=False)\n",
              ")"
            ]
          },
          "execution_count": 18,
          "metadata": {},
          "output_type": "execute_result"
        }
      ],
      "source": [
        "# Load tokenizer and model\n",
        "tokenizer = DistilBertTokenizer.from_pretrained('distilbert-base-uncased')\n",
        "# Define the model\n",
        "model = DistilBertForSequenceClassification.from_pretrained(\"distilbert-base-uncased\", num_labels=6)\n",
        "model.train()"
      ]
    },
    {
      "cell_type": "code",
      "execution_count": 19,
      "metadata": {
        "id": "R61DvmU3nWo6"
      },
      "outputs": [],
      "source": [
        "# Separating features and labels\n",
        "train_data = train_df['Head_Notes']\n",
        "train_labels = train_df.drop(columns=['Head_Notes', 'Case_id', 'Ss'])\n",
        "\n",
        "test_data = test_df['Head_Notes']\n",
        "test_labels = test_df.drop(columns=['Head_Notes', 'Case_id', 'Ss'])"
      ]
    },
    {
      "cell_type": "code",
      "execution_count": 21,
      "metadata": {
        "id": "jxuFk_Q_nvvX"
      },
      "outputs": [],
      "source": [
        "# Define hyperparameters\n",
        "MAX_LENGTH = 512\n",
        "BATCH_SIZE = 8\n",
        "LEARNING_RATE = 2e-5\n",
        "\n",
        "class LegalJudgementsDataset(Dataset):\n",
        "    def __init__(self, encodings, labels):\n",
        "        self.encodings = encodings\n",
        "        self.labels = labels\n",
        "\n",
        "    def __getitem__(self, idx):\n",
        "        item = {key: val[idx].clone().detach() for key, val in self.encodings.items()}\n",
        "        item['labels'] = self.labels[idx].clone().detach()\n",
        "        return item\n",
        "\n",
        "    def __len__(self):\n",
        "        return len(self.labels)"
      ]
    },
    {
      "cell_type": "code",
      "execution_count": 22,
      "metadata": {
        "id": "J8bH4pMXkzj-"
      },
      "outputs": [],
      "source": [
        "# Tokenize and encode the datasets\n",
        "train_encodings = tokenizer(list(train_data), truncation=True, padding=True, max_length=MAX_LENGTH, return_tensors=\"pt\")\n",
        "test_encodings = tokenizer(list(test_data), truncation=True, padding=True, max_length=MAX_LENGTH, return_tensors=\"pt\")\n",
        "\n",
        "# Extract labels from the datasets\n",
        "train_labels = torch.tensor(train_labels.values, dtype=torch.float32)\n",
        "test_labels = torch.tensor(test_labels.values, dtype=torch.float32)"
      ]
    },
    {
      "cell_type": "code",
      "execution_count": 23,
      "metadata": {
        "id": "oUnWiZSTk2A5"
      },
      "outputs": [],
      "source": [
        "train_dataset = LegalJudgementsDataset(train_encodings, train_labels)\n",
        "test_dataset = LegalJudgementsDataset(test_encodings, test_labels)\n",
        "\n",
        "# Create data loaders\n",
        "train_loader = DataLoader(train_dataset, batch_size=BATCH_SIZE, shuffle=True)\n",
        "test_loader = DataLoader(test_dataset, batch_size=BATCH_SIZE, shuffle=False)"
      ]
    },
    {
      "cell_type": "code",
      "execution_count": 24,
      "metadata": {
        "colab": {
          "base_uri": "https://localhost:8080/"
        },
        "id": "PvtP1nVxpFeI",
        "outputId": "7ae6acb5-bf97-4bec-d556-1d352c563f47"
      },
      "outputs": [
        {
          "name": "stderr",
          "output_type": "stream",
          "text": [
            "c:\\Users\\ahmad\\AppData\\Local\\Programs\\Python\\Python312\\Lib\\site-packages\\transformers\\optimization.py:457: FutureWarning: This implementation of AdamW is deprecated and will be removed in a future version. Use the PyTorch implementation torch.optim.AdamW instead, or set `no_deprecation_warning=True` to disable this warning\n",
            "  warnings.warn(\n"
          ]
        }
      ],
      "source": [
        "# Define the optimizer\n",
        "optimizer = AdamW(model.parameters(), lr=LEARNING_RATE)\n",
        "\n",
        "def compute_accuracy(preds, labels):\n",
        "    preds = torch.sigmoid(preds).round()\n",
        "    correct = (preds == labels).float()\n",
        "    acc = correct.sum() / correct.numel()\n",
        "    return acc"
      ]
    },
    {
      "cell_type": "code",
      "execution_count": 25,
      "metadata": {
        "colab": {
          "base_uri": "https://localhost:8080/"
        },
        "id": "4YqE6S0qpijm",
        "outputId": "a63059e6-10da-45df-8d27-add900b87805"
      },
      "outputs": [
        {
          "name": "stderr",
          "output_type": "stream",
          "text": [
            "Epoch 1:   0%|          | 0/14 [00:00<?, ?it/s]"
          ]
        },
        {
          "name": "stderr",
          "output_type": "stream",
          "text": [
            "Epoch 1: 100%|██████████| 14/14 [04:01<00:00, 17.25s/it]\n"
          ]
        },
        {
          "name": "stdout",
          "output_type": "stream",
          "text": [
            "Epoch 1/8, Average Training Loss: 0.6418831476143428\n",
            "Epoch 1/8, Average Training Accuracy: 0.7053571449858802\n"
          ]
        },
        {
          "name": "stderr",
          "output_type": "stream",
          "text": [
            "Epoch 2: 100%|██████████| 14/14 [04:24<00:00, 18.92s/it]\n"
          ]
        },
        {
          "name": "stdout",
          "output_type": "stream",
          "text": [
            "Epoch 2/8, Average Training Loss: 0.5314978467566627\n",
            "Epoch 2/8, Average Training Accuracy: 0.7797618976661137\n"
          ]
        },
        {
          "name": "stderr",
          "output_type": "stream",
          "text": [
            "Epoch 3: 100%|██████████| 14/14 [04:23<00:00, 18.84s/it]\n"
          ]
        },
        {
          "name": "stdout",
          "output_type": "stream",
          "text": [
            "Epoch 3/8, Average Training Loss: 0.4985545937504087\n",
            "Epoch 3/8, Average Training Accuracy: 0.7842261961528233\n"
          ]
        },
        {
          "name": "stderr",
          "output_type": "stream",
          "text": [
            "Epoch 4: 100%|██████████| 14/14 [04:24<00:00, 18.92s/it]\n"
          ]
        },
        {
          "name": "stdout",
          "output_type": "stream",
          "text": [
            "Epoch 4/8, Average Training Loss: 0.47698206986699787\n",
            "Epoch 4/8, Average Training Accuracy: 0.7976190532956805\n"
          ]
        },
        {
          "name": "stderr",
          "output_type": "stream",
          "text": [
            "Epoch 5: 100%|██████████| 14/14 [03:46<00:00, 16.21s/it]\n"
          ]
        },
        {
          "name": "stdout",
          "output_type": "stream",
          "text": [
            "Epoch 5/8, Average Training Loss: 0.4484324391399111\n",
            "Epoch 5/8, Average Training Accuracy: 0.8095238123621259\n"
          ]
        },
        {
          "name": "stderr",
          "output_type": "stream",
          "text": [
            "Epoch 6: 100%|██████████| 14/14 [03:37<00:00, 15.57s/it]\n"
          ]
        },
        {
          "name": "stdout",
          "output_type": "stream",
          "text": [
            "Epoch 6/8, Average Training Loss: 0.4151774133954729\n",
            "Epoch 6/8, Average Training Accuracy: 0.8511904776096344\n"
          ]
        },
        {
          "name": "stderr",
          "output_type": "stream",
          "text": [
            "Epoch 7: 100%|██████████| 14/14 [03:36<00:00, 15.47s/it]\n"
          ]
        },
        {
          "name": "stdout",
          "output_type": "stream",
          "text": [
            "Epoch 7/8, Average Training Loss: 0.37592586662088123\n",
            "Epoch 7/8, Average Training Accuracy: 0.8645833347524915\n"
          ]
        },
        {
          "name": "stderr",
          "output_type": "stream",
          "text": [
            "Epoch 8: 100%|██████████| 14/14 [03:33<00:00, 15.25s/it]"
          ]
        },
        {
          "name": "stdout",
          "output_type": "stream",
          "text": [
            "Epoch 8/8, Average Training Loss: 0.32640326023101807\n",
            "Epoch 8/8, Average Training Accuracy: 0.9002976162093026\n"
          ]
        },
        {
          "name": "stderr",
          "output_type": "stream",
          "text": [
            "\n"
          ]
        }
      ],
      "source": [
        "train_losses = []\n",
        "train_accuracies = []\n",
        "\n",
        "EPOCHS = 8\n",
        "for epoch in range(EPOCHS):\n",
        "    model.train()\n",
        "    total_train_loss = 0\n",
        "    total_train_acc = 0\n",
        "    for batch in tqdm(train_loader, desc=\"Epoch \" + str(epoch + 1)):\n",
        "        optimizer.zero_grad()\n",
        "        input_ids = batch[\"input_ids\"]\n",
        "        attention_mask = batch[\"attention_mask\"]\n",
        "        labels = batch[\"labels\"]\n",
        "        outputs = model(input_ids=input_ids, attention_mask=attention_mask, labels=labels)\n",
        "        loss = outputs.loss\n",
        "        loss.backward()\n",
        "        optimizer.step()\n",
        "\n",
        "        total_train_loss += loss.item()\n",
        "        total_train_acc += compute_accuracy(outputs.logits, labels).item()\n",
        "\n",
        "    average_train_loss = total_train_loss / len(train_loader)\n",
        "    print(f'Epoch {epoch + 1}/{EPOCHS}, Average Training Loss: {average_train_loss}')\n",
        "    average_train_acc = total_train_acc / len(train_loader)\n",
        "    print(f'Epoch {epoch + 1}/{EPOCHS}, Average Training Accuracy: {average_train_acc}')\n",
        "\n",
        "    train_losses.append(average_train_loss)\n",
        "    train_accuracies.append(average_train_acc)"
      ]
    },
    {
      "cell_type": "code",
      "execution_count": 26,
      "metadata": {
        "colab": {
          "base_uri": "https://localhost:8080/"
        },
        "id": "QTkRGOmHtro1",
        "outputId": "6195b358-5981-4103-963d-a4e0d5aaf09a"
      },
      "outputs": [
        {
          "name": "stderr",
          "output_type": "stream",
          "text": [
            "Evaluation: 100%|██████████| 14/14 [03:47<00:00, 16.25s/it]\n",
            "C:\\Users\\ahmad\\AppData\\Local\\Temp\\ipykernel_18464\\1444259844.py:31: UserWarning: To copy construct from a tensor, it is recommended to use sourceTensor.clone().detach() or sourceTensor.clone().detach().requires_grad_(True), rather than torch.tensor(sourceTensor).\n",
            "  actual_labels_tensor = torch.tensor(test_dataset.labels)\n"
          ]
        },
        {
          "name": "stdout",
          "output_type": "stream",
          "text": [
            "Accuracy: 0.9285714285714286\n",
            "Precision:  0.9196428571428571\n",
            "Recall:  0.7410071942446043\n",
            "F1 Score:  0.8207171314741036\n",
            "Instance 0:\n",
            "Predicted Label: tensor([1, 0, 0, 0, 0, 0])\n",
            "Actual Label: tensor([1., 0., 0., 0., 0., 0.])\n",
            "Instance 1:\n",
            "Predicted Label: tensor([1, 0, 0, 0, 0, 0])\n",
            "Actual Label: tensor([1., 0., 0., 0., 0., 0.])\n",
            "Instance 2:\n",
            "Predicted Label: tensor([1, 0, 0, 0, 0, 0])\n",
            "Actual Label: tensor([1., 0., 0., 0., 0., 0.])\n",
            "Instance 3:\n",
            "Predicted Label: tensor([1, 0, 0, 0, 0, 0])\n",
            "Actual Label: tensor([1., 0., 0., 0., 0., 0.])\n",
            "Instance 4:\n",
            "Predicted Label: tensor([1, 0, 0, 0, 0, 0])\n",
            "Actual Label: tensor([1., 0., 0., 0., 0., 0.])\n",
            "Instance 5:\n",
            "Predicted Label: tensor([1, 0, 0, 0, 0, 0])\n",
            "Actual Label: tensor([1., 0., 0., 0., 0., 0.])\n",
            "Instance 6:\n",
            "Predicted Label: tensor([1, 0, 0, 0, 0, 0])\n",
            "Actual Label: tensor([1., 0., 0., 0., 0., 0.])\n",
            "Instance 7:\n",
            "Predicted Label: tensor([1, 0, 0, 0, 0, 0])\n",
            "Actual Label: tensor([1., 0., 0., 0., 0., 0.])\n",
            "Instance 8:\n",
            "Predicted Label: tensor([1, 0, 0, 0, 0, 0])\n",
            "Actual Label: tensor([1., 0., 0., 0., 0., 0.])\n",
            "Instance 9:\n",
            "Predicted Label: tensor([1, 0, 0, 0, 0, 0])\n",
            "Actual Label: tensor([1., 0., 0., 0., 0., 0.])\n",
            "Instance 10:\n",
            "Predicted Label: tensor([1, 0, 0, 0, 0, 0])\n",
            "Actual Label: tensor([1., 0., 0., 0., 0., 0.])\n",
            "Instance 11:\n",
            "Predicted Label: tensor([1, 0, 0, 0, 0, 0])\n",
            "Actual Label: tensor([1., 0., 0., 0., 0., 0.])\n",
            "Instance 12:\n",
            "Predicted Label: tensor([1, 0, 0, 0, 0, 0])\n",
            "Actual Label: tensor([1., 0., 0., 0., 0., 0.])\n",
            "Instance 13:\n",
            "Predicted Label: tensor([1, 0, 0, 0, 0, 0])\n",
            "Actual Label: tensor([1., 0., 0., 0., 0., 0.])\n",
            "Instance 14:\n",
            "Predicted Label: tensor([1, 0, 0, 0, 0, 0])\n",
            "Actual Label: tensor([1., 0., 0., 0., 0., 0.])\n",
            "Instance 15:\n",
            "Predicted Label: tensor([1, 0, 0, 0, 0, 0])\n",
            "Actual Label: tensor([1., 0., 0., 0., 0., 0.])\n",
            "Instance 16:\n",
            "Predicted Label: tensor([1, 0, 0, 0, 0, 0])\n",
            "Actual Label: tensor([1., 0., 0., 0., 0., 0.])\n",
            "Instance 17:\n",
            "Predicted Label: tensor([1, 0, 0, 0, 0, 1])\n",
            "Actual Label: tensor([1., 0., 0., 0., 1., 1.])\n",
            "Instance 18:\n",
            "Predicted Label: tensor([1, 0, 0, 0, 0, 0])\n",
            "Actual Label: tensor([1., 0., 0., 0., 0., 0.])\n",
            "Instance 19:\n",
            "Predicted Label: tensor([1, 0, 0, 0, 0, 0])\n",
            "Actual Label: tensor([1., 0., 0., 0., 0., 0.])\n",
            "Instance 20:\n",
            "Predicted Label: tensor([1, 0, 0, 0, 0, 0])\n",
            "Actual Label: tensor([1., 0., 0., 0., 0., 0.])\n",
            "Instance 21:\n",
            "Predicted Label: tensor([1, 0, 0, 0, 0, 0])\n",
            "Actual Label: tensor([1., 0., 0., 0., 0., 0.])\n",
            "Instance 22:\n",
            "Predicted Label: tensor([1, 0, 0, 0, 0, 1])\n",
            "Actual Label: tensor([1., 0., 0., 0., 0., 1.])\n",
            "Instance 23:\n",
            "Predicted Label: tensor([1, 0, 0, 0, 0, 0])\n",
            "Actual Label: tensor([1., 0., 0., 0., 0., 0.])\n",
            "Instance 24:\n",
            "Predicted Label: tensor([1, 0, 0, 0, 0, 0])\n",
            "Actual Label: tensor([0., 1., 0., 0., 0., 0.])\n",
            "Instance 25:\n",
            "Predicted Label: tensor([1, 0, 0, 0, 0, 0])\n",
            "Actual Label: tensor([1., 1., 0., 0., 0., 0.])\n",
            "Instance 26:\n",
            "Predicted Label: tensor([1, 0, 0, 0, 0, 1])\n",
            "Actual Label: tensor([1., 1., 0., 0., 0., 1.])\n",
            "Instance 27:\n",
            "Predicted Label: tensor([0, 0, 0, 0, 0, 0])\n",
            "Actual Label: tensor([0., 1., 0., 0., 0., 0.])\n",
            "Instance 28:\n",
            "Predicted Label: tensor([0, 0, 0, 0, 0, 0])\n",
            "Actual Label: tensor([0., 1., 0., 0., 0., 0.])\n",
            "Instance 29:\n",
            "Predicted Label: tensor([1, 0, 0, 0, 0, 0])\n",
            "Actual Label: tensor([1., 1., 0., 0., 0., 0.])\n",
            "Instance 30:\n",
            "Predicted Label: tensor([1, 0, 0, 0, 0, 0])\n",
            "Actual Label: tensor([1., 1., 0., 0., 0., 0.])\n",
            "Instance 31:\n",
            "Predicted Label: tensor([1, 0, 0, 0, 0, 0])\n",
            "Actual Label: tensor([1., 1., 0., 0., 0., 0.])\n",
            "Instance 32:\n",
            "Predicted Label: tensor([1, 0, 0, 0, 0, 0])\n",
            "Actual Label: tensor([1., 1., 0., 0., 0., 0.])\n",
            "Instance 33:\n",
            "Predicted Label: tensor([1, 0, 0, 0, 0, 1])\n",
            "Actual Label: tensor([0., 1., 0., 0., 0., 1.])\n",
            "Instance 34:\n",
            "Predicted Label: tensor([0, 0, 0, 0, 0, 0])\n",
            "Actual Label: tensor([0., 1., 0., 0., 0., 0.])\n",
            "Instance 35:\n",
            "Predicted Label: tensor([0, 0, 1, 0, 0, 0])\n",
            "Actual Label: tensor([0., 0., 1., 0., 0., 0.])\n",
            "Instance 36:\n",
            "Predicted Label: tensor([0, 0, 1, 0, 0, 0])\n",
            "Actual Label: tensor([0., 0., 1., 0., 0., 0.])\n",
            "Instance 37:\n",
            "Predicted Label: tensor([0, 0, 1, 0, 0, 0])\n",
            "Actual Label: tensor([0., 0., 1., 0., 0., 1.])\n",
            "Instance 38:\n",
            "Predicted Label: tensor([0, 0, 1, 0, 0, 0])\n",
            "Actual Label: tensor([0., 0., 1., 0., 0., 0.])\n",
            "Instance 39:\n",
            "Predicted Label: tensor([0, 0, 1, 0, 0, 0])\n",
            "Actual Label: tensor([0., 0., 1., 0., 0., 0.])\n",
            "Instance 40:\n",
            "Predicted Label: tensor([0, 0, 1, 0, 0, 0])\n",
            "Actual Label: tensor([0., 0., 1., 0., 0., 0.])\n",
            "Instance 41:\n",
            "Predicted Label: tensor([0, 0, 1, 0, 0, 0])\n",
            "Actual Label: tensor([0., 0., 1., 0., 0., 0.])\n",
            "Instance 42:\n",
            "Predicted Label: tensor([0, 0, 1, 0, 0, 0])\n",
            "Actual Label: tensor([0., 0., 1., 0., 1., 0.])\n",
            "Instance 43:\n",
            "Predicted Label: tensor([0, 0, 1, 0, 0, 0])\n",
            "Actual Label: tensor([0., 0., 1., 0., 0., 0.])\n",
            "Instance 44:\n",
            "Predicted Label: tensor([0, 0, 1, 0, 0, 0])\n",
            "Actual Label: tensor([0., 0., 1., 0., 0., 0.])\n",
            "Instance 45:\n",
            "Predicted Label: tensor([0, 0, 1, 0, 0, 0])\n",
            "Actual Label: tensor([1., 0., 1., 0., 0., 0.])\n",
            "Instance 46:\n",
            "Predicted Label: tensor([0, 0, 1, 0, 0, 0])\n",
            "Actual Label: tensor([0., 0., 1., 0., 0., 0.])\n",
            "Instance 47:\n",
            "Predicted Label: tensor([0, 0, 0, 0, 0, 0])\n",
            "Actual Label: tensor([0., 0., 1., 0., 0., 0.])\n",
            "Instance 48:\n",
            "Predicted Label: tensor([0, 0, 1, 0, 0, 0])\n",
            "Actual Label: tensor([0., 0., 1., 0., 0., 0.])\n",
            "Instance 49:\n",
            "Predicted Label: tensor([0, 0, 0, 0, 0, 0])\n",
            "Actual Label: tensor([1., 0., 1., 0., 0., 0.])\n",
            "Instance 50:\n",
            "Predicted Label: tensor([0, 0, 1, 0, 0, 0])\n",
            "Actual Label: tensor([0., 0., 1., 0., 0., 0.])\n",
            "Instance 51:\n",
            "Predicted Label: tensor([0, 0, 0, 1, 0, 0])\n",
            "Actual Label: tensor([0., 0., 0., 1., 0., 0.])\n",
            "Instance 52:\n",
            "Predicted Label: tensor([0, 0, 0, 1, 0, 0])\n",
            "Actual Label: tensor([0., 0., 0., 1., 0., 0.])\n",
            "Instance 53:\n",
            "Predicted Label: tensor([0, 0, 0, 1, 0, 0])\n",
            "Actual Label: tensor([0., 0., 0., 1., 0., 0.])\n",
            "Instance 54:\n",
            "Predicted Label: tensor([0, 0, 0, 1, 0, 0])\n",
            "Actual Label: tensor([0., 0., 0., 1., 0., 0.])\n",
            "Instance 55:\n",
            "Predicted Label: tensor([0, 0, 0, 1, 0, 0])\n",
            "Actual Label: tensor([0., 0., 0., 1., 0., 0.])\n",
            "Instance 56:\n",
            "Predicted Label: tensor([0, 0, 0, 1, 0, 0])\n",
            "Actual Label: tensor([0., 0., 0., 1., 0., 0.])\n",
            "Instance 57:\n",
            "Predicted Label: tensor([0, 0, 0, 1, 0, 0])\n",
            "Actual Label: tensor([0., 0., 0., 1., 0., 0.])\n",
            "Instance 58:\n",
            "Predicted Label: tensor([0, 0, 0, 1, 0, 0])\n",
            "Actual Label: tensor([0., 0., 0., 1., 0., 0.])\n",
            "Instance 59:\n",
            "Predicted Label: tensor([0, 0, 0, 1, 0, 0])\n",
            "Actual Label: tensor([0., 0., 0., 1., 0., 0.])\n",
            "Instance 60:\n",
            "Predicted Label: tensor([0, 0, 0, 1, 0, 0])\n",
            "Actual Label: tensor([0., 0., 0., 1., 0., 0.])\n",
            "Instance 61:\n",
            "Predicted Label: tensor([0, 0, 0, 1, 0, 0])\n",
            "Actual Label: tensor([0., 0., 0., 1., 0., 0.])\n",
            "Instance 62:\n",
            "Predicted Label: tensor([0, 0, 0, 1, 0, 0])\n",
            "Actual Label: tensor([0., 0., 0., 1., 0., 0.])\n",
            "Instance 63:\n",
            "Predicted Label: tensor([0, 0, 0, 1, 0, 0])\n",
            "Actual Label: tensor([0., 0., 0., 1., 0., 0.])\n",
            "Instance 64:\n",
            "Predicted Label: tensor([0, 0, 0, 1, 0, 0])\n",
            "Actual Label: tensor([0., 0., 0., 1., 0., 0.])\n",
            "Instance 65:\n",
            "Predicted Label: tensor([0, 0, 0, 1, 0, 0])\n",
            "Actual Label: tensor([0., 0., 0., 1., 0., 0.])\n",
            "Instance 66:\n",
            "Predicted Label: tensor([0, 0, 0, 1, 0, 0])\n",
            "Actual Label: tensor([0., 0., 0., 1., 0., 0.])\n",
            "Instance 67:\n",
            "Predicted Label: tensor([0, 0, 0, 1, 0, 0])\n",
            "Actual Label: tensor([0., 0., 0., 1., 0., 0.])\n",
            "Instance 68:\n",
            "Predicted Label: tensor([0, 0, 0, 1, 0, 0])\n",
            "Actual Label: tensor([0., 0., 0., 1., 0., 0.])\n",
            "Instance 69:\n",
            "Predicted Label: tensor([0, 0, 0, 1, 0, 0])\n",
            "Actual Label: tensor([0., 0., 0., 1., 0., 0.])\n",
            "Instance 70:\n",
            "Predicted Label: tensor([0, 0, 0, 0, 0, 0])\n",
            "Actual Label: tensor([0., 0., 0., 0., 1., 0.])\n",
            "Instance 71:\n",
            "Predicted Label: tensor([1, 0, 0, 0, 1, 0])\n",
            "Actual Label: tensor([1., 0., 0., 0., 1., 0.])\n",
            "Instance 72:\n",
            "Predicted Label: tensor([0, 0, 0, 1, 0, 0])\n",
            "Actual Label: tensor([0., 0., 0., 0., 1., 0.])\n",
            "Instance 73:\n",
            "Predicted Label: tensor([1, 0, 0, 0, 1, 1])\n",
            "Actual Label: tensor([0., 0., 0., 0., 1., 1.])\n",
            "Instance 74:\n",
            "Predicted Label: tensor([1, 0, 0, 0, 0, 0])\n",
            "Actual Label: tensor([0., 0., 0., 0., 1., 0.])\n",
            "Instance 75:\n",
            "Predicted Label: tensor([1, 0, 0, 0, 1, 0])\n",
            "Actual Label: tensor([0., 0., 0., 0., 1., 0.])\n",
            "Instance 76:\n",
            "Predicted Label: tensor([1, 0, 0, 0, 0, 0])\n",
            "Actual Label: tensor([1., 0., 0., 0., 1., 0.])\n",
            "Instance 77:\n",
            "Predicted Label: tensor([1, 0, 0, 0, 0, 0])\n",
            "Actual Label: tensor([1., 0., 0., 0., 1., 0.])\n",
            "Instance 78:\n",
            "Predicted Label: tensor([0, 0, 0, 0, 0, 0])\n",
            "Actual Label: tensor([0., 0., 0., 0., 1., 0.])\n",
            "Instance 79:\n",
            "Predicted Label: tensor([1, 0, 0, 0, 1, 0])\n",
            "Actual Label: tensor([0., 0., 0., 0., 1., 0.])\n",
            "Instance 80:\n",
            "Predicted Label: tensor([1, 0, 0, 0, 0, 0])\n",
            "Actual Label: tensor([1., 0., 0., 0., 1., 0.])\n",
            "Instance 81:\n",
            "Predicted Label: tensor([1, 0, 0, 0, 0, 0])\n",
            "Actual Label: tensor([1., 0., 0., 0., 1., 0.])\n",
            "Instance 82:\n",
            "Predicted Label: tensor([1, 0, 0, 0, 0, 0])\n",
            "Actual Label: tensor([1., 0., 0., 0., 1., 0.])\n",
            "Instance 83:\n",
            "Predicted Label: tensor([0, 0, 0, 0, 0, 0])\n",
            "Actual Label: tensor([0., 0., 0., 0., 1., 0.])\n",
            "Instance 84:\n",
            "Predicted Label: tensor([0, 0, 0, 0, 0, 0])\n",
            "Actual Label: tensor([0., 0., 0., 0., 1., 0.])\n",
            "Instance 85:\n",
            "Predicted Label: tensor([1, 0, 0, 0, 0, 1])\n",
            "Actual Label: tensor([1., 0., 0., 0., 0., 1.])\n",
            "Instance 86:\n",
            "Predicted Label: tensor([0, 0, 0, 0, 0, 1])\n",
            "Actual Label: tensor([0., 0., 0., 0., 0., 1.])\n",
            "Instance 87:\n",
            "Predicted Label: tensor([0, 0, 0, 0, 0, 1])\n",
            "Actual Label: tensor([0., 0., 0., 0., 0., 1.])\n",
            "Instance 88:\n",
            "Predicted Label: tensor([0, 0, 0, 0, 0, 1])\n",
            "Actual Label: tensor([0., 0., 1., 0., 1., 1.])\n",
            "Instance 89:\n",
            "Predicted Label: tensor([0, 0, 0, 0, 0, 1])\n",
            "Actual Label: tensor([0., 0., 0., 0., 0., 1.])\n",
            "Instance 90:\n",
            "Predicted Label: tensor([1, 0, 0, 0, 0, 1])\n",
            "Actual Label: tensor([1., 0., 0., 0., 0., 1.])\n",
            "Instance 91:\n",
            "Predicted Label: tensor([1, 0, 0, 0, 0, 1])\n",
            "Actual Label: tensor([0., 0., 0., 0., 0., 1.])\n",
            "Instance 92:\n",
            "Predicted Label: tensor([1, 0, 0, 0, 0, 0])\n",
            "Actual Label: tensor([1., 0., 0., 0., 0., 0.])\n",
            "Instance 93:\n",
            "Predicted Label: tensor([1, 0, 0, 0, 0, 0])\n",
            "Actual Label: tensor([1., 0., 0., 0., 0., 0.])\n",
            "Instance 94:\n",
            "Predicted Label: tensor([1, 0, 0, 0, 0, 0])\n",
            "Actual Label: tensor([1., 0., 0., 0., 0., 0.])\n",
            "Instance 95:\n",
            "Predicted Label: tensor([1, 0, 0, 0, 0, 0])\n",
            "Actual Label: tensor([1., 1., 0., 0., 0., 0.])\n",
            "Instance 96:\n",
            "Predicted Label: tensor([1, 0, 0, 0, 0, 0])\n",
            "Actual Label: tensor([1., 1., 0., 0., 0., 0.])\n",
            "Instance 97:\n",
            "Predicted Label: tensor([1, 0, 0, 0, 0, 0])\n",
            "Actual Label: tensor([1., 1., 0., 0., 0., 0.])\n",
            "Instance 98:\n",
            "Predicted Label: tensor([0, 0, 1, 0, 0, 0])\n",
            "Actual Label: tensor([0., 0., 1., 0., 0., 0.])\n",
            "Instance 99:\n",
            "Predicted Label: tensor([0, 0, 1, 0, 0, 0])\n",
            "Actual Label: tensor([0., 0., 1., 0., 0., 0.])\n",
            "Instance 100:\n",
            "Predicted Label: tensor([0, 0, 1, 0, 0, 0])\n",
            "Actual Label: tensor([0., 0., 1., 0., 0., 0.])\n",
            "Instance 101:\n",
            "Predicted Label: tensor([0, 0, 0, 1, 0, 0])\n",
            "Actual Label: tensor([0., 0., 0., 1., 0., 0.])\n",
            "Instance 102:\n",
            "Predicted Label: tensor([0, 0, 0, 1, 0, 0])\n",
            "Actual Label: tensor([0., 0., 0., 1., 0., 0.])\n",
            "Instance 103:\n",
            "Predicted Label: tensor([0, 0, 0, 1, 0, 0])\n",
            "Actual Label: tensor([0., 0., 0., 1., 0., 0.])\n",
            "Instance 104:\n",
            "Predicted Label: tensor([0, 0, 0, 1, 0, 0])\n",
            "Actual Label: tensor([0., 0., 0., 1., 0., 0.])\n",
            "Instance 105:\n",
            "Predicted Label: tensor([1, 0, 0, 0, 0, 0])\n",
            "Actual Label: tensor([1., 0., 0., 0., 1., 0.])\n",
            "Instance 106:\n",
            "Predicted Label: tensor([1, 0, 0, 0, 0, 0])\n",
            "Actual Label: tensor([0., 0., 0., 0., 1., 0.])\n",
            "Instance 107:\n",
            "Predicted Label: tensor([1, 0, 0, 0, 0, 1])\n",
            "Actual Label: tensor([1., 0., 0., 0., 0., 1.])\n"
          ]
        }
      ],
      "source": [
        "model.eval()\n",
        "total_accuracy = 0\n",
        "num_batches = 0\n",
        "predicted_labels = []\n",
        "\n",
        "with torch.no_grad():\n",
        "    for batch in tqdm(test_loader, desc=\"Evaluation\"):\n",
        "        input_ids = batch[\"input_ids\"]\n",
        "        attention_mask = batch[\"attention_mask\"]\n",
        "        labels = batch[\"labels\"]\n",
        "        outputs = model(input_ids=input_ids, attention_mask=attention_mask)\n",
        "        predictions = torch.sigmoid(outputs.logits)\n",
        "\n",
        "        # Thresholding predictions\n",
        "        binary_predictions = (predictions > 0.4).int()\n",
        "\n",
        "        # Calculate accuracy\n",
        "        batch_accuracy = (binary_predictions == labels).float().mean().item()\n",
        "        total_accuracy += batch_accuracy\n",
        "        num_batches += 1\n",
        "\n",
        "        # Append predicted labels for this batch\n",
        "        predicted_labels.extend(binary_predictions.tolist())\n",
        "\n",
        "print(\"Accuracy:\", total_accuracy / num_batches)\n",
        "\n",
        "# Convert the predicted labels list to a tensor\n",
        "predicted_labels_tensor = torch.tensor(predicted_labels)\n",
        "\n",
        "# Assuming your labels are in a list of lists format, convert to tensor\n",
        "actual_labels_tensor = torch.tensor(test_dataset.labels)\n",
        "\n",
        "precision, recall, f1, _ = precision_recall_fscore_support(actual_labels_tensor.cpu(), predicted_labels_tensor.cpu(), average='micro')\n",
        "print(\"Precision: \", precision)\n",
        "print(\"Recall: \", recall)\n",
        "print(\"F1 Score: \", f1)\n",
        "# Show the predicted labels for every instance\n",
        "for idx, (predicted_label, actual_label) in enumerate(zip(predicted_labels_tensor, actual_labels_tensor)):\n",
        "    print(f\"Instance {idx}:\")\n",
        "    print(\"Predicted Label:\", predicted_label)\n",
        "    print(\"Actual Label:\", actual_label)"
      ]
    }
  ],
  "metadata": {
    "colab": {
      "collapsed_sections": [
        "mlDoTZ5jHHVp",
        "36BsNTk9hynT",
        "KU2S2nYQkpVs"
      ],
      "provenance": []
    },
    "kernelspec": {
      "display_name": "Python 3",
      "name": "python3"
    },
    "language_info": {
      "codemirror_mode": {
        "name": "ipython",
        "version": 3
      },
      "file_extension": ".py",
      "mimetype": "text/x-python",
      "name": "python",
      "nbconvert_exporter": "python",
      "pygments_lexer": "ipython3",
      "version": "3.12.2"
    }
  },
  "nbformat": 4,
  "nbformat_minor": 0
}
